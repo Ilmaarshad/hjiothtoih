{
 "cells": [
  {
   "cell_type": "raw",
   "id": "b184f91b",
   "metadata": {},
   "source": [
    "1. To what does a relative path refer?\n",
    "ans. Relative paths are relative to the current working directory."
   ]
  },
  {
   "cell_type": "raw",
   "id": "6bcce063",
   "metadata": {},
   "source": [
    "2. What does an absolute path start with your operating system?\n",
    "ans. Absolute paths start with the root folder, such as / or C:. An absolute path always contains the root elements and the complete list of directories to locate the specific file or folder. All the information required to locate the file or folder is available in the absolute path."
   ]
  },
  {
   "cell_type": "raw",
   "id": "b8455441",
   "metadata": {},
   "source": [
    "3. What do the functions os.getcwd() and os.chdir() do?\n",
    "ans. The os.getcwd() function returns the current working directory. The os.chdir() function changes the current working directory.\n",
    "\n"
   ]
  },
  {
   "cell_type": "raw",
   "id": "4d90976c",
   "metadata": {},
   "source": [
    "4. What are the . and .. folders?\n",
    "ans. The . folder is the current folder, and .. is the parent folder."
   ]
  },
  {
   "cell_type": "raw",
   "id": "9f75faba",
   "metadata": {},
   "source": [
    "5. In C:\\bacon\\eggs\\spam.txt, which part is the dir name, and which part is the base name?\n",
    "ans. C:\\bacon\\eggs is the dir name, while spam.txt is the base name."
   ]
  },
  {
   "cell_type": "raw",
   "id": "f6d57932",
   "metadata": {},
   "source": [
    "6. What are the three “mode” arguments that can be passed to the open() function?\n",
    "ans. The string 'r' for read mode, 'w' for write mode, and 'a' for append mode"
   ]
  },
  {
   "cell_type": "raw",
   "id": "1d593b48",
   "metadata": {},
   "source": [
    "7. What happens if an existing file is opened in write mode?\n",
    "ans. An existing file opened in write mode is erased and completely overwritten."
   ]
  },
  {
   "cell_type": "raw",
   "id": "bcb2b607",
   "metadata": {},
   "source": [
    "8. How do you tell the difference between read() and readlines()?\n",
    "ans. The read() method returns the file's entire contents as a single string value. The readlines() method returns a list of strings, where each string is a line from the file's contents."
   ]
  },
  {
   "cell_type": "raw",
   "id": "fcc250ae",
   "metadata": {},
   "source": [
    "9. What data structure does a shelf value resemble?\n",
    "ans. A shelf value resembles a dictionary value; it has keys and values, along with keys() and values() methods that work similarly to the dictionary methods of the same names."
   ]
  }
 ],
 "metadata": {
  "kernelspec": {
   "display_name": "Python 3 (ipykernel)",
   "language": "python",
   "name": "python3"
  },
  "language_info": {
   "codemirror_mode": {
    "name": "ipython",
    "version": 3
   },
   "file_extension": ".py",
   "mimetype": "text/x-python",
   "name": "python",
   "nbconvert_exporter": "python",
   "pygments_lexer": "ipython3",
   "version": "3.9.13"
  }
 },
 "nbformat": 4,
 "nbformat_minor": 5
}
