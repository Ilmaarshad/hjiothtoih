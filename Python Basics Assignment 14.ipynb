{
 "cells": [
  {
   "cell_type": "raw",
   "id": "c40268e5",
   "metadata": {},
   "source": [
    "1. What does RGBA stand for?\n",
    "ans.  \n",
    "* RGBA stands for red, green, blue, and alpha (transparency) in the color\n",
    "* An RGBA value is a tuple of 4 integers, each ranging from 0 to 255. The four integers correspond"
   ]
  },
  {
   "cell_type": "raw",
   "id": "23ee974d",
   "metadata": {},
   "source": [
    "2. From the Pillow module, how do you get the RGBA value of any images?\n",
    "ans. "
   ]
  },
  {
   "cell_type": "code",
   "execution_count": 2,
   "id": "26f7bb23",
   "metadata": {},
   "outputs": [
    {
     "data": {
      "text/plain": [
       "(255, 0, 0, 255)"
      ]
     },
     "execution_count": 2,
     "metadata": {},
     "output_type": "execute_result"
    }
   ],
   "source": [
    "from PIL import ImageColor\n",
    "ImageColor.getcolor('green', 'RGBA')\n",
    "ImageColor.getcolor('red', 'RGBA')"
   ]
  },
  {
   "cell_type": "raw",
   "id": "fca05cec",
   "metadata": {},
   "source": [
    "3. What is a box tuple, and how does it work?\n",
    "ans. A box tuple is a tuple value of four integers: the left-edge x-coordinate, the top-edge y-coordinate, the width, and the height, respectively."
   ]
  },
  {
   "cell_type": "raw",
   "id": "a49f4c9c",
   "metadata": {},
   "source": [
    "4. Use your image and load in notebook then, How can you find out the width and height of an\n",
    "Image object?\n",
    "ans. "
   ]
  },
  {
   "cell_type": "code",
   "execution_count": 1,
   "id": "1b8c9eec",
   "metadata": {},
   "outputs": [
    {
     "name": "stdout",
     "output_type": "stream",
     "text": [
      "Width, Height -> (522, 340)\n",
      "Width, Height -> 522,340\n",
      "Width, Height -> 522,340\n"
     ]
    }
   ],
   "source": [
    "from PIL import Image\n",
    "pic = Image.open('Pic.jpg')\n",
    "print(f'Width, Height -> {pic.size}') # Approach 1\n",
    "print(f'Width, Height -> {pic.width},{pic.height}') # Approach 2\n",
    "width,height = pic.size\n",
    "print(f'Width, Height -> {width},{height}') # Approach 3"
   ]
  },
  {
   "cell_type": "raw",
   "id": "197fb801",
   "metadata": {},
   "source": [
    "5. What method would you call to get Image object for a 100×100 image, excluding the lower-left quarter of it?"
   ]
  },
  {
   "cell_type": "raw",
   "id": "554c9154",
   "metadata": {},
   "source": [
    "ans. ImageObject.crop((0, 50, 50, 50))"
   ]
  },
  {
   "cell_type": "raw",
   "id": "c9f1f0aa",
   "metadata": {},
   "source": [
    "6. After making changes to an Image object, how could you save it as an image file?"
   ]
  },
  {
   "cell_type": "raw",
   "id": "44ff2513",
   "metadata": {},
   "source": [
    "ans. By Calling the imageObj.save('new_filename.png') method of the Image object."
   ]
  },
  {
   "cell_type": "raw",
   "id": "f94369d8",
   "metadata": {},
   "source": [
    "7. What module contains Pillow’s shape-drawing code?"
   ]
  },
  {
   "cell_type": "raw",
   "id": "7e1cfc69",
   "metadata": {},
   "source": [
    "ans. The ImageDraw module contains code to draw on images"
   ]
  },
  {
   "cell_type": "raw",
   "id": "604a6ddd",
   "metadata": {},
   "source": [
    "8. Image objects do not have drawing methods. What kind of object does? How do you get this kind\n",
    "of object?"
   ]
  },
  {
   "cell_type": "raw",
   "id": "4fbc038d",
   "metadata": {},
   "source": [
    "aAns. ImageDraw objects have shape-drawing methods such as point(), line(), or rectangle(). They are returned by passing the Image object to the ImageDraw.Draw() function"
   ]
  }
 ],
 "metadata": {
  "kernelspec": {
   "display_name": "Python 3 (ipykernel)",
   "language": "python",
   "name": "python3"
  },
  "language_info": {
   "codemirror_mode": {
    "name": "ipython",
    "version": 3
   },
   "file_extension": ".py",
   "mimetype": "text/x-python",
   "name": "python",
   "nbconvert_exporter": "python",
   "pygments_lexer": "ipython3",
   "version": "3.9.13"
  }
 },
 "nbformat": 4,
 "nbformat_minor": 5
}
