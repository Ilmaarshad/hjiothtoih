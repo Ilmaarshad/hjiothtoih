{
 "cells": [
  {
   "cell_type": "raw",
   "id": "33c13615",
   "metadata": {},
   "source": [
    "1. Is the Python Standard Library included with PyInputPlus?\n",
    "ans. PyInputPlus is a Python module used for taking inputs with additional validation features. PyInputPlus will keep asking the user for text until they enter valid input."
   ]
  },
  {
   "cell_type": "raw",
   "id": "1c251310",
   "metadata": {},
   "source": [
    "2. Why is PyInputPlus commonly imported with import pyinputplus as pypi?\n",
    "ans. The 'as pypi' code in the import statement saves us from typing pyinputplus each time we want to call a PyInputPlus function."
   ]
  },
  {
   "cell_type": "raw",
   "id": "aea80993",
   "metadata": {},
   "source": [
    "3. How do you distinguish between inputInt() and inputFloat()?\n",
    "ans. \n",
    "\"inputInt()\" : Accepts an integer value. This also takes additional parameters ‘min’, ‘max’, ‘greaterThan’ and ‘lessThan’ for bounds. Returns an int.\n",
    "\"inputFloat()\" : Accepts a floating-point numeric value. Also takes additional ‘min’, ‘max’, ‘greaterThan’ and ‘lessThan’ parameters. Returns a float."
   ]
  },
  {
   "cell_type": "raw",
   "id": "30bf8eaf",
   "metadata": {},
   "source": [
    "4. Using PyInputPlus, how do you ensure that the user enters a whole number between 0 and 99?\n",
    "ans. "
   ]
  },
  {
   "cell_type": "code",
   "execution_count": 6,
   "id": "fb30972f",
   "metadata": {},
   "outputs": [
    {
     "name": "stdout",
     "output_type": "stream",
     "text": [
      "Enter an Integer... 5\n",
      "5\n"
     ]
    }
   ],
   "source": [
    "import pyinputplus as pypi\n",
    "  \n",
    "# integer input with\n",
    "# specific bounds\n",
    "inp = pypi.inputInt(prompt = \"Enter an Integer... \",min = 0, max = 99 )\n",
    "  \n",
    "print(inp)"
   ]
  },
  {
   "cell_type": "raw",
   "id": "844be1ac",
   "metadata": {},
   "source": [
    "5. What is transferred to the keyword arguments allowRegexes and blockRegexes?\n",
    "ans. The allowRegexes and blockRegexes keyword arguments take a list of regular expression strings to determine what the PyInputPlus function will accept or reject as valid input"
   ]
  },
  {
   "cell_type": "raw",
   "id": "b9330f7d",
   "metadata": {},
   "source": [
    "6. If a blank input is entered three times, what does inputStr(limit=3) do?\n",
    "ans. It will raise RetryLimitException."
   ]
  },
  {
   "cell_type": "code",
   "execution_count": 7,
   "id": "e616707a",
   "metadata": {},
   "outputs": [
    {
     "name": "stdout",
     "output_type": "stream",
     "text": [
      "2\n"
     ]
    }
   ],
   "source": [
    "inp = pypi.inputStr(limit=3)"
   ]
  },
  {
   "cell_type": "raw",
   "id": "04ac6e35",
   "metadata": {},
   "source": [
    "7. If blank input is entered three times, what does inputStr(limit=3, default='hello') do?\n",
    "ans. The function returns the default value instead of raising an exception."
   ]
  },
  {
   "cell_type": "code",
   "execution_count": 8,
   "id": "559a0645",
   "metadata": {},
   "outputs": [
    {
     "name": "stdout",
     "output_type": "stream",
     "text": [
      "\n",
      "Blank values are not allowed.\n",
      "\n",
      "Blank values are not allowed.\n",
      "\n",
      "Blank values are not allowed.\n"
     ]
    }
   ],
   "source": [
    "inp = pypi.inputStr(limit=3, default='hello')\n"
   ]
  },
  {
   "cell_type": "code",
   "execution_count": 9,
   "id": "20c18792",
   "metadata": {},
   "outputs": [
    {
     "data": {
      "text/plain": [
       "'hello'"
      ]
     },
     "execution_count": 9,
     "metadata": {},
     "output_type": "execute_result"
    }
   ],
   "source": [
    "inp"
   ]
  },
  {
   "cell_type": "code",
   "execution_count": null,
   "id": "79c9647d",
   "metadata": {},
   "outputs": [],
   "source": []
  },
  {
   "cell_type": "code",
   "execution_count": null,
   "id": "34a9eff9",
   "metadata": {},
   "outputs": [],
   "source": []
  }
 ],
 "metadata": {
  "kernelspec": {
   "display_name": "Python 3 (ipykernel)",
   "language": "python",
   "name": "python3"
  },
  "language_info": {
   "codemirror_mode": {
    "name": "ipython",
    "version": 3
   },
   "file_extension": ".py",
   "mimetype": "text/x-python",
   "name": "python",
   "nbconvert_exporter": "python",
   "pygments_lexer": "ipython3",
   "version": "3.9.13"
  }
 },
 "nbformat": 4,
 "nbformat_minor": 5
}
