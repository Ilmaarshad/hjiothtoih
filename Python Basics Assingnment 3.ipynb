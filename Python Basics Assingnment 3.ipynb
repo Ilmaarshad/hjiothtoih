{
 "cells": [
  {
   "cell_type": "raw",
   "id": "fc928e14",
   "metadata": {},
   "source": [
    "1. Why are functions advantageous to have in your programs?\n",
    "\n",
    " Functions avoid rewriting the same logic or code again and again in a program. It makes programs shorter, easier to read, and easier to update."
   ]
  },
  {
   "cell_type": "raw",
   "id": "689fbd39",
   "metadata": {},
   "source": [
    "2. When does the code in a function run: when it is specified or when it is called?\n",
    "\n",
    "The code in a function works when it is called"
   ]
  },
  {
   "cell_type": "raw",
   "id": "d07fdaca",
   "metadata": {},
   "source": [
    "3. What statement creates a function?\n",
    "\n",
    "The def statement create a function\n",
    "Eg:\n",
    "def test1():\n",
    "    pass\n"
   ]
  },
  {
   "cell_type": "raw",
   "id": "fce27634",
   "metadata": {},
   "source": [
    "4. What is the difference between a function and a function call?"
   ]
  },
  {
   "cell_type": "code",
   "execution_count": 1,
   "id": "8fb58fad",
   "metadata": {},
   "outputs": [],
   "source": [
    "#function\n",
    "def test1():\n",
    "    pass\n",
    "\n",
    "#function of call\n",
    "test1()"
   ]
  },
  {
   "cell_type": "raw",
   "id": "622b9c23",
   "metadata": {},
   "source": [
    "A function consists of  the def statement and the code in its def clause.\n",
    "A function call is what moves the program execution into the function, and the function call evaluates to the function's return value."
   ]
  },
  {
   "cell_type": "raw",
   "id": "5d9f9773",
   "metadata": {},
   "source": [
    "5. How many global scopes are there in a Python program? How many local scopes?\n",
    "\n",
    "Ans .There's only one global Python scope per program execution. This scope remains in existence until the program terminates , and a local scope is created whenever a function is called."
   ]
  },
  {
   "cell_type": "raw",
   "id": "3d47eb2a",
   "metadata": {},
   "source": [
    "6. What happens to variables in a local scope when the function call returns?\n",
    "\n",
    "Ans. When a function returns, the local scope is deleted."
   ]
  },
  {
   "cell_type": "raw",
   "id": "1484eae4",
   "metadata": {},
   "source": [
    "7. What is the concept of a return value? Is it possible to have a return value in an expression?\n",
    "\n",
    "Ans. A return value is the value that a function call evaluates to. Like any value, a return value can be used as part of an expression."
   ]
  },
  {
   "cell_type": "raw",
   "id": "0abe4479",
   "metadata": {},
   "source": [
    "8. If a function does not have a return statement, what is the return value of a call to that function?\n",
    "\n",
    "\n",
    "Ans. If the funtion does not have a return statement it will not return anything"
   ]
  },
  {
   "cell_type": "raw",
   "id": "c49aeff9",
   "metadata": {},
   "source": [
    "9. How do you make a function variable refer to the global variable?\n",
    "\n",
    "Ans. To make function variable as a global variable you can use the global keyword to declare which variables are global."
   ]
  },
  {
   "cell_type": "raw",
   "id": "cef8adce",
   "metadata": {},
   "source": [
    "10. What is the data type of None?\n",
    "\n",
    "The data type of None is NoneType"
   ]
  },
  {
   "cell_type": "raw",
   "id": "de1efa62",
   "metadata": {},
   "source": [
    "11. What does the sentence import areallyourpetsnamederic do?\n",
    "\n",
    "Ans .That import statement imports a module named areallyourpetsnamederic. (But a module of this name doesnt exists in Python)"
   ]
  },
  {
   "cell_type": "raw",
   "id": "97e9340a",
   "metadata": {},
   "source": [
    "12. If you had a bacon() feature in a spam module, what would you call it after importing spam?\n",
    "\n",
    "This function can be called with spam.bacon()."
   ]
  },
  {
   "cell_type": "raw",
   "id": "f19df76f",
   "metadata": {},
   "source": [
    "13. What can you do to save a programme from crashing if it encounters an error?\n",
    "\n",
    "Ans. We can try except clause to save a program from crashing"
   ]
  },
  {
   "cell_type": "raw",
   "id": "38855cf9",
   "metadata": {},
   "source": [
    "Q14. What is the purpose of the try clause? What is the purpose of the except clause?\n",
    "\n",
    "The code that could potentially cause an error goes in the try clause.\n",
    "-The code that executes if an error happens goes in the except clause."
   ]
  },
  {
   "cell_type": "code",
   "execution_count": null,
   "id": "541bc1cb",
   "metadata": {},
   "outputs": [],
   "source": []
  }
 ],
 "metadata": {
  "kernelspec": {
   "display_name": "Python 3 (ipykernel)",
   "language": "python",
   "name": "python3"
  },
  "language_info": {
   "codemirror_mode": {
    "name": "ipython",
    "version": 3
   },
   "file_extension": ".py",
   "mimetype": "text/x-python",
   "name": "python",
   "nbconvert_exporter": "python",
   "pygments_lexer": "ipython3",
   "version": "3.9.13"
  }
 },
 "nbformat": 4,
 "nbformat_minor": 5
}
