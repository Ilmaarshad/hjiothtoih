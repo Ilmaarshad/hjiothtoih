{
 "cells": [
  {
   "cell_type": "raw",
   "id": "196a5ef4",
   "metadata": {},
   "source": [
    "1. In the below elements which of them are values or an expression? eg:- values can be\n",
    "integer or string and expressions will be mathematical operators.\n",
    "\n",
    "*  = expressions\n",
    "\"hello\" = values\n",
    "-87.8 = values\n",
    "- = expressions\n",
    "/ = expressions\n",
    "+ = expressions\n",
    "6 = values"
   ]
  },
  {
   "cell_type": "raw",
   "id": "0c195efa",
   "metadata": {},
   "source": [
    "2. What is the difference between string and variable?\n",
    "\n",
    "Variable = A variable is anything that can be represented in a programming language that one can assign different values to and which can hold value.\n",
    "\n",
    "String = String is a type of information you would store in a variable and it is also a data type.\n"
   ]
  },
  {
   "cell_type": "raw",
   "id": "6c7e5418",
   "metadata": {},
   "source": [
    "3. Describe three different data types.\n",
    "\n",
    "i) integer(int) = integer is a data type used to store numbers without a fractional component(for eg. 56,3563,-2..)\n",
    "\n",
    "ii) string(str) = string is used to store text. It can also include digits and symbols, however, it is always treated as text and it will always be enclosed in double or single quotes(for eg. \"hello\", '212')\n",
    "\n",
    "iii) boolean(bool) = boolean represents the values true and false. When working with the boolean data type, it is helpful to keep in mind that sometimes a boolean value is also represented as 0 (for false) and 1 (for true).\n"
   ]
  },
  {
   "cell_type": "raw",
   "id": "9e91f87f",
   "metadata": {},
   "source": [
    "4. What is an expression made up of? What do all expressions do?\n",
    "\n",
    "An expression is a combination of values, variables, operators, and calls to functions. Expressions need to be evaluated. If you ask Python to print an expression, the interpreter evaluates the expression and displays the result"
   ]
  },
  {
   "cell_type": "raw",
   "id": "30cc3ac7",
   "metadata": {},
   "source": [
    "5. This assignment statements, like spam = 10. What is the difference between an\n",
    "expression and a statement?\n",
    "\n",
    "An expression evaluates to a single value. A statement does not."
   ]
  },
  {
   "cell_type": "raw",
   "id": "1ad4b129",
   "metadata": {},
   "source": [
    "6. After running the following code, what does the variable bacon contain?\n",
    "bacon = 22\n",
    "bacon + 1\n",
    "\n",
    "The bacon variable contains 22. The bacon + 1 expression does not reassign the value in bacon (that would need an assignment statement: bacon = bacon + 1). So the bacon variable still contains 22."
   ]
  },
  {
   "cell_type": "raw",
   "id": "42359dd0",
   "metadata": {},
   "source": [
    "7. What should the values of the following two terms be?\n",
    "\n",
    "'spam' + 'spamspam' = 'spamspamspam'\n",
    "'spam'*3 = 'spamspamspam'\n",
    " Both will give the same outcome"
   ]
  },
  {
   "cell_type": "raw",
   "id": "ed1f84fb",
   "metadata": {},
   "source": [
    "8. Why is eggs a valid variable name while 100 is invalid?\n",
    "\n",
    "Because variable name cannot start with an integer."
   ]
  },
  {
   "cell_type": "raw",
   "id": "d508c3b8",
   "metadata": {},
   "source": [
    "9. What three functions can be used to get the integer, floating-point number, or string\n",
    "version of a value?\n",
    "\n",
    "The int(), float(), and str() functions will evaluate to the integer, floating-point number, and string versions of the value passed to them."
   ]
  },
  {
   "cell_type": "raw",
   "id": "9484415d",
   "metadata": {},
   "source": [
    "10. Why does this expression cause an error? How can you fix it?\n",
    "\n",
    "'I have eaten' + 99+ 'burritos'\n",
    "\n",
    "It causes an error because strings can only concatenate with strings and not integer so we should type caste the integer into string.\n",
    "The right way to write this :\n",
    "\n",
    " I have eaten ' + str(99) + ' burritos.'\n",
    " \n",
    "               OR\n",
    "               \n",
    "'I have eaten 99 burritos' "
   ]
  }
 ],
 "metadata": {
  "kernelspec": {
   "display_name": "Python 3 (ipykernel)",
   "language": "python",
   "name": "python3"
  },
  "language_info": {
   "codemirror_mode": {
    "name": "ipython",
    "version": 3
   },
   "file_extension": ".py",
   "mimetype": "text/x-python",
   "name": "python",
   "nbconvert_exporter": "python",
   "pygments_lexer": "ipython3",
   "version": "3.9.13"
  }
 },
 "nbformat": 4,
 "nbformat_minor": 5
}
